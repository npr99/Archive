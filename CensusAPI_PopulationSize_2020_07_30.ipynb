{
  "nbformat": 4,
  "nbformat_minor": 0,
  "metadata": {
    "colab": {
      "name": "CensusAPI_PopulationSize_2020-07-30.ipynb",
      "provenance": [],
      "collapsed_sections": [],
      "toc_visible": true,
      "include_colab_link": true
    },
    "kernelspec": {
      "name": "python3",
      "display_name": "Python 3"
    }
  },
  "cells": [
    {
      "cell_type": "markdown",
      "metadata": {
        "id": "view-in-github",
        "colab_type": "text"
      },
      "source": [
        "<a href=\"https://colab.research.google.com/github/npr99/Archive/blob/master/CensusAPI_PopulationSize_2020_07_30.ipynb\" target=\"_parent\"><img src=\"https://colab.research.google.com/assets/colab-badge.svg\" alt=\"Open In Colab\"/></a>"
      ]
    },
    {
      "cell_type": "markdown",
      "metadata": {
        "id": "ygQM5h9Btyzt",
        "colab_type": "text"
      },
      "source": [
        "# Basic Population Analysis Workflow\n",
        "\n",
        "The following Jupyter Notebook provides a workflow for replicating a demographic analysis. This example uses text from Wang and vom Hofe (2006), mixed with python code that utilizes the US Census Bureau's Application Programming Interface (API). \n",
        "\n",
        "Wang, X. and vom Hofe, R. (2006). Research Methods in Urban and Regional Planning, Springer.  Available for download through [Texas A&M University Library](https://link-springer-com.lib-ezproxy.tamu.edu:9443/book/10.1007%2F978-3-540-49658-8)"
      ]
    },
    {
      "cell_type": "markdown",
      "metadata": {
        "id": "5nTB_mKA2f82",
        "colab_type": "text"
      },
      "source": [
        "# Example to replicate - Demographic Analysis Fundamental Concepts \n",
        "The following is an expert from (Wang and vom Hofe, 2006 p. 58).\n",
        "\n",
        "> For planners and demographers alike, population analyses do not begin with immediately applying sophisticated methods in population projections. Rather, most demographic analyses start with fundamental concepts, such as describing populations by their actual size.\n",
        "\n",
        "> The point here is to get a thorough understanding of the population of\n",
        "interest by studying characteristics for periods where data are available. For\n",
        "planning purposes, these first demographic analyses can already give planners\n",
        "valuable and necessary information. Is the population of an area declining or\n",
        "increasing? By what rate is the area declining or increasing? With such\n",
        "information, school district superintendents could make some educated guesses\n",
        "about expected enrollment if they know the age composition of the area’s\n",
        "population. \n",
        "\n",
        "> Let us focus on the first of the fundamental concepts of demographic analysis,\n",
        "the **population size**. Using 1990 and 2000 U.S. Census Bureau population statistics for Boone County we see immediately that the county is growing fast. Boone County had a population of 57,589 in 1990 and 85,991 in 2000.\n",
        "\n",
        "> While the concept of population size is straightforward, it is an important\n",
        "fact that, in general, people are counted according to their permanent place of\n",
        "residence. For example, someone living in a neighboring county and commuting\n",
        "daily to Boone County for work is not considered a resident of Boone County. As\n",
        "a result this person would, of course, not show up in Boone County’s population\n",
        "size in Table 3.1. The so called “de jure” approach counts people only at their\n",
        "permanent place of residence.\n",
        "\n",
        "<h6><center> Table 3.1 Boone county population size, 1990 and 2000. </center></h6>\n",
        "\n",
        "| Boone County, Kentucky |  1990  |  2000  | Absolute Change | Percent Change |\n",
        "|:----------------------:|:------:|:------:|:---------------:|:--------------:|\n",
        "| Male                   | 28,111 | 42,499 | 14,388          | 51.2           |\n",
        "| Female                 | 29,478 | 43,492 | 14,014          | 47.5           |\n",
        "| Total                  | 57,589 | 85,991 | 28,402          | 49.3           |\n",
        "\n",
        "<h10><center> Source: U.S. Census Bureau, Data Set: 1990 and 2000 Summary Tape File 1 (STF1). </center></h10>"
      ]
    },
    {
      "cell_type": "markdown",
      "metadata": {
        "id": "J-ud1jz2iib_",
        "colab_type": "text"
      },
      "source": [
        "## Python Workflow to replicate Table 3.1\n",
        "\n",
        "The data in the above table comes from the US Census Bureau. To replicate the above table requires knowledge of the US Census Bureau's website, specifics about how the Census Bureau collects data, and the geographies for which the data are collected.\n",
        "\n",
        "The following sections of this notebook provide a workflow that utilizes the US Census API using python. The basic data science workflow has the following steps:\n",
        "1. Obtain Data\n",
        "2. Clean Data\n",
        "3. Explore Data\n",
        "4. Interpret Data\n",
        "5. Publish Data"
      ]
    },
    {
      "cell_type": "markdown",
      "metadata": {
        "id": "HUpoG3qPPaLT",
        "colab_type": "text"
      },
      "source": [
        "### Python Packages and Version Information\n",
        "Python is an open source programming language, which means that it is not owned or maintained by a private company. Programmers create packages (collections of programs) and make them publicly available. \n",
        "For example, to make use of the US Census API the python pacakge `requests` is required. The python package `pandas` provides the tools needed to clean and explore the obtained Census data.\n",
        "\n"
      ]
    },
    {
      "cell_type": "code",
      "metadata": {
        "id": "lB_qP7E9EoKK",
        "colab_type": "code",
        "colab": {}
      },
      "source": [
        "import requests       ## Required for the Census API\n",
        "import pandas as pd   ## Required to clean and explore data"
      ],
      "execution_count": null,
      "outputs": []
    },
    {
      "cell_type": "markdown",
      "metadata": {
        "id": "VmiYl64pn5Vr",
        "colab_type": "text"
      },
      "source": [
        "There are many different versions of Python and the packages. It is good to know the version in case there is a bug in the program or if a new version has different features."
      ]
    },
    {
      "cell_type": "code",
      "metadata": {
        "id": "1YbefR2WWW3C",
        "colab_type": "code",
        "colab": {
          "base_uri": "https://localhost:8080/",
          "height": 87
        },
        "outputId": "33e0131a-8bdf-4b0c-afdb-02988240d2c5"
      },
      "source": [
        "# Display versions being used - important information for replication\n",
        "import sys  # For checking version of python for replication\n",
        "\n",
        "print(\"Python Version     \", sys.version)\n",
        "print(\"pandas version:    \", pd.__version__)\n",
        "print(\"requests version:     \", requests.__version__)"
      ],
      "execution_count": null,
      "outputs": [
        {
          "output_type": "stream",
          "text": [
            "Python Version      3.6.9 (default, Apr 18 2020, 01:56:04) \n",
            "[GCC 8.4.0]\n",
            "pandas version:     1.0.5\n",
            "requests version:      2.23.0\n"
          ],
          "name": "stdout"
        }
      ]
    },
    {
      "cell_type": "markdown",
      "metadata": {
        "id": "Ly748EP4GXyb",
        "colab_type": "text"
      },
      "source": [
        "## Data Science Step 1: Obtain Data with Census API\n",
        "\n",
        "The following section sets up and reads in data from the Census API. The following sections of code are detailed, but they also make obtianing Census Data systematic and reproducible. Understanding the Census API helps to reinforce the Census data knowledge.[link text](https://)"
      ]
    },
    {
      "cell_type": "markdown",
      "metadata": {
        "id": "NEw327ZgYFDR",
        "colab_type": "text"
      },
      "source": [
        "### 1.1 Anatomy of a Census API Query\n",
        "\n",
        "Here is a Census API query. Test out the link, it will take you to a webpage with the basic population information for the United States in 1990. The United States had a population of 248,709,873 people.\n",
        "\n",
        "https://api.census.gov/data/1990/sf1?get=P0010001&for=us\n",
        "\n",
        "The API has two parts, the base URL and the the parameters or predicates.\n",
        "\n",
        "The base url (`https://api.census.gov/data/1990/sf1`) has three parts:\n",
        "1. The host website = `https://api.census.gov/data`\n",
        "2. The year for the Census Data = `1990`\n",
        "3. The Census source Data such as Summary File 1 = `sf1`\n",
        "\n",
        "The predicates (`get=P0010001&for=us`) has two main parts:\n",
        "1. The variables to get = `P0010001`\n",
        "2. The geography to the data for = `us`\n",
        "\n",
        "The predicates can include more parameters. \n",
        "\n",
        "For more details on Census API query see: \n",
        "1. Breakstone and Anderson. (2019-07-25). *Census Data API User Guide Version 1.6*. Retrieved from https://www.census.gov/content/dam/Census/data/developers/api-user-guide/api-guide.pdf \n",
        "2. DataCamp. (2020-03-04). *Python Tutorial: Using the Census API*. Retrieved from https://www.youtube.com/watch?v=l47HptzM7ao "
      ]
    },
    {
      "cell_type": "markdown",
      "metadata": {
        "id": "hPIZAUlDmsBw",
        "colab_type": "text"
      },
      "source": [
        "### 1.2 Base Url for 1990 and 2000 Census Data\n",
        "\n",
        "The code in this section is based on helpful YouTube Videos and example code from Stack Exchange.\n",
        "\n",
        "* DataCamp (2020-03-04) Python Tutorial: Using the Census API. Retrieved from https://youtu.be/l47HptzM7ao\n",
        "\n",
        "* ANimator120 (2020-04-16) How to Format API Requests to Loop through All Tracts in a County. Retrieved from https://opendata.stackexchange.com/questions/17420/how-to-format-api-requests-to-loop-through-all-tracts-in-a-county\n"
      ]
    },
    {
      "cell_type": "code",
      "metadata": {
        "id": "whJo5nkeGJqK",
        "colab_type": "code",
        "colab": {}
      },
      "source": [
        "HOST = \"https://api.census.gov/data\""
      ],
      "execution_count": null,
      "outputs": []
    },
    {
      "cell_type": "code",
      "metadata": {
        "id": "TNIpR-TvsgsW",
        "colab_type": "code",
        "colab": {
          "base_uri": "https://localhost:8080/",
          "height": 35
        },
        "outputId": "41e218f0-adda-46e3-a6cc-508824a31efa"
      },
      "source": [
        "# the request base url, 1990 Decennial Census\n",
        "year = \"1990\"\n",
        "dataset = \"sf1\"\n",
        "base_url1990 = \"/\".join([HOST, year, dataset])\n",
        "base_url1990"
      ],
      "execution_count": null,
      "outputs": [
        {
          "output_type": "execute_result",
          "data": {
            "application/vnd.google.colaboratory.intrinsic+json": {
              "type": "string"
            },
            "text/plain": [
              "'https://api.census.gov/data/1990/sf1'"
            ]
          },
          "metadata": {
            "tags": []
          },
          "execution_count": 4
        }
      ]
    },
    {
      "cell_type": "code",
      "metadata": {
        "id": "RcQ4seqgGRkB",
        "colab_type": "code",
        "colab": {
          "base_uri": "https://localhost:8080/",
          "height": 35
        },
        "outputId": "c9c0a9db-abb2-4819-9b7c-4142a4319cee"
      },
      "source": [
        "# the request base url, 2000 Decennial Census\n",
        "year = \"2000\"\n",
        "dataset = \"dec/sf1\"\n",
        "base_url2000 = \"/\".join([HOST, year, dataset])\n",
        "base_url2000"
      ],
      "execution_count": null,
      "outputs": [
        {
          "output_type": "execute_result",
          "data": {
            "application/vnd.google.colaboratory.intrinsic+json": {
              "type": "string"
            },
            "text/plain": [
              "'https://api.census.gov/data/2000/dec/sf1'"
            ]
          },
          "metadata": {
            "tags": []
          },
          "execution_count": 5
        }
      ]
    },
    {
      "cell_type": "markdown",
      "metadata": {
        "id": "wfsxI1J0p3V6",
        "colab_type": "text"
      },
      "source": [
        "### 1.3 Predicates or Parameters for 1990 and 2000 Census\n"
      ]
    },
    {
      "cell_type": "markdown",
      "metadata": {
        "id": "QSw-x-llYb5s",
        "colab_type": "text"
      },
      "source": [
        "#### 1.3.1 Variables to obtain for 1990 Census\n",
        "For a full list of variables https://api.census.gov/data/1990/sf1/variables.html\n",
        "\n",
        "| Name |  Label  |\n",
        "|:----------------------:|:------:|\n",
        "| ANPSADPI               | Geography Name |\n",
        "| P0050001               | Sex Male |\n",
        "| P0050002               | Sex Female |\n",
        "| P0010001               | Total Persons |"
      ]
    },
    {
      "cell_type": "code",
      "metadata": {
        "id": "kqXZKawZZGYR",
        "colab_type": "code",
        "colab": {
          "base_uri": "https://localhost:8080/",
          "height": 69
        },
        "outputId": "5adec5e8-e765-4857-b9b5-f06051b382a6"
      },
      "source": [
        "# Set up the predicates for 1990 Data\n",
        "predicates1990 = {}\n",
        "# For a full list of variables https://api.census.gov/data/1990/sf1/variables.html\n",
        "get_vars = [\"ANPSADPI\", \"P0050001\", \"P0050002\",\"P0010001\"]\n",
        "predicates1990[\"get\"] = \",\".join(get_vars)\n",
        "predicates1990[\"for\"] = \"county:015\"\n",
        "predicates1990[\"in\"] = \"state:21\"\n",
        "predicates1990"
      ],
      "execution_count": null,
      "outputs": [
        {
          "output_type": "execute_result",
          "data": {
            "text/plain": [
              "{'for': 'county:015',\n",
              " 'get': 'ANPSADPI,P0050001,P0050002,P0010001',\n",
              " 'in': 'state:21'}"
            ]
          },
          "metadata": {
            "tags": []
          },
          "execution_count": 6
        }
      ]
    },
    {
      "cell_type": "markdown",
      "metadata": {
        "id": "fsgzAkCG7SmX",
        "colab_type": "text"
      },
      "source": [
        "#### 1.3.2 Variables to obtain for 2000 Census\n",
        "For a full list of variables https://api.census.gov/data/2000/dec/sf1/variables.html\n",
        "\n",
        "| Name |  Label  |\n",
        "|:----------------------:|:------:|\n",
        "| LSAD_NAME              | Legal/Statistical Area Description name |\n",
        "| P012002               | Sex Male |\n",
        "| P012026               | Sex Female |\n",
        "| P001001               | Total Persons |"
      ]
    },
    {
      "cell_type": "code",
      "metadata": {
        "id": "SL2qpphNjd27",
        "colab_type": "code",
        "colab": {
          "base_uri": "https://localhost:8080/",
          "height": 69
        },
        "outputId": "ed073352-8c3b-458e-8c21-a303075a485d"
      },
      "source": [
        "# Set up the predicates for 2000 Data\n",
        "predicates2000 = {}\n",
        "# For a full list of variables https://api.census.gov/data/2000/dec/sf1/variables.html\n",
        "get_vars = [\"LSAD_NAME\",\"\" \"P012002\", \"P012026\", \"P001001\"]\n",
        "predicates2000[\"get\"] = \",\".join(get_vars)\n",
        "predicates2000[\"for\"] = \"county:015\"\n",
        "predicates2000[\"in\"] = \"state:21\"\n",
        "predicates2000"
      ],
      "execution_count": null,
      "outputs": [
        {
          "output_type": "execute_result",
          "data": {
            "text/plain": [
              "{'for': 'county:015',\n",
              " 'get': 'LSAD_NAME,P012002,P012026,P001001',\n",
              " 'in': 'state:21'}"
            ]
          },
          "metadata": {
            "tags": []
          },
          "execution_count": 7
        }
      ]
    },
    {
      "cell_type": "markdown",
      "metadata": {
        "id": "Zb-bCIwEm0mH",
        "colab_type": "text"
      },
      "source": [
        "### 1.4 Request Census Data through the API"
      ]
    },
    {
      "cell_type": "code",
      "metadata": {
        "id": "l209cF8ZZM-W",
        "colab_type": "code",
        "colab": {
          "base_uri": "https://localhost:8080/",
          "height": 52
        },
        "outputId": "841d27e3-b736-40d3-fcfa-e097ebe7d943"
      },
      "source": [
        "# Request data\n",
        "r1990 = requests.get(base_url1990, params=predicates1990)\n",
        "print(r1990.text)"
      ],
      "execution_count": null,
      "outputs": [
        {
          "output_type": "stream",
          "text": [
            "[[\"ANPSADPI\",\"P0050001\",\"P0050002\",\"P0010001\",\"state\",\"county\"],\n",
            "[\"Boone County\",\"28111\",\"29478\",\"57589\",\"21\",\"015\"]]\n"
          ],
          "name": "stdout"
        }
      ]
    },
    {
      "cell_type": "code",
      "metadata": {
        "id": "g929AbU-jjIg",
        "colab_type": "code",
        "colab": {
          "base_uri": "https://localhost:8080/",
          "height": 52
        },
        "outputId": "ffcb3800-d3b4-48fa-907a-0cabfed9b8fd"
      },
      "source": [
        "# Request data\n",
        "r2000 = requests.get(base_url2000, params=predicates2000)\n",
        "print(r2000.text)"
      ],
      "execution_count": null,
      "outputs": [
        {
          "output_type": "stream",
          "text": [
            "[[\"LSAD_NAME\",\"P012002\",\"P012026\",\"P001001\",\"state\",\"county\"],\n",
            "[\"Boone County\",\"42499\",\"43492\",\"85991\",\"21\",\"015\"]]\n"
          ],
          "name": "stdout"
        }
      ]
    },
    {
      "cell_type": "markdown",
      "metadata": {
        "id": "hckdGXZiohSY",
        "colab_type": "text"
      },
      "source": [
        "The above results provide the basic input data required to replicate Table 3.1 in Wang and vom Hofe (2006). Notice that the total population for 1990 (57589) and the total population for 2000 (85991) appear in the printed request results."
      ]
    },
    {
      "cell_type": "markdown",
      "metadata": {
        "id": "0I8pNk1V9_hC",
        "colab_type": "text"
      },
      "source": [
        "### 1.5 Comparison to data.census.gov\n",
        "\n",
        "The US Census Bureau provides access to their data through the portal [data.census.gov](https://youtu.be/XNtvO27r2g0). This website came online in 2019 and replaced FactFinder. The Census Bureau is working to add historic data to data.census.gov. Currently 1990 is not available for comparison, but 2000 data is avaiable. The links below (called [deep links](https://www.census.gov/content/dam/Census/data/data-census-gov/data-census-gov-deep-linking-guide.pdf) provide quick access to the same data available through the API.\n",
        "\n",
        "https://data.census.gov/cedsci/table?g=0500000US21015&y=2000&tid=DECENNIALSF12000.P001\n",
        "\n",
        "https://data.census.gov/cedsci/table?g=0500000US21015&y=2000&tid=DECENNIALSF12000.P012"
      ]
    },
    {
      "cell_type": "markdown",
      "metadata": {
        "id": "R1PddGOJnDHS",
        "colab_type": "text"
      },
      "source": [
        "## Datascience Step 2: Clean Obtained Data\n",
        "Data from the Census API is returned in a JSON format. JSON (JavaScript Object Notation) is a lightweight data-interchange format. It is easy for humans to read and write. It is easy for machines to parse and generate. (https://www.json.org/json-en.html)\n",
        "\n",
        "To clean the data, we will need to convert the JSON format into a Pandas Dataframe. Pandas DataFrame is a 2-dimensional labeled data structure with columns of potentially different types. Dataframes are similar to a sheet in a spreadsheet program like Microsoft Excel or Google Sheets. Once the data is in a Pandas Data frame new columns can be created to generate the needed statistics."
      ]
    },
    {
      "cell_type": "markdown",
      "metadata": {
        "id": "3p_nlp7wpfTg",
        "colab_type": "text"
      },
      "source": [
        "### 2.1 Create user-friendly column names\n",
        "The data from the Census API uses the variable names for the columns. The variable names can be replaced with more understandable names."
      ]
    },
    {
      "cell_type": "code",
      "metadata": {
        "id": "p8pGngIkFAWi",
        "colab_type": "code",
        "colab": {}
      },
      "source": [
        "# create user-friendly column names\n",
        "col_names = [\"cnty_name\", \"Male\", \"Female\", \"Total\", \"state_fips\", \"county_fips\"]"
      ],
      "execution_count": null,
      "outputs": []
    },
    {
      "cell_type": "code",
      "metadata": {
        "id": "oqFSq2KXE8Ab",
        "colab_type": "code",
        "colab": {}
      },
      "source": [
        "# load into pandas data frame\n",
        "df1990 = pd.DataFrame(columns=col_names, data=r1990.json()[1:], index=[1])\n",
        "df2000 = pd.DataFrame(columns=col_names, data=r2000.json()[1:], index=[2])\n",
        "\n",
        "# add year varaible\n",
        "df1990[\"year\"] = 1990\n",
        "df2000[\"year\"] = 2000"
      ],
      "execution_count": null,
      "outputs": []
    },
    {
      "cell_type": "markdown",
      "metadata": {
        "id": "MWEApA3dfiIt",
        "colab_type": "text"
      },
      "source": [
        "### 2.2 Reshape the data\n",
        "\n",
        "The data needs to be reshaped. Right now all of the data is in a wide format, the data needs to be long. \n",
        "To reshape data from wide to long pandas has the melt method. It can be used to move all the “values” stored in your DataFrame to a single column with all other columns being used to contain identifying information.\n",
        "\n",
        "For our data, the county is the identifying information.\n",
        "\n",
        "In the end the data will have one column with the type of population size (male, female, total) and then the year\n",
        "\n",
        "https://pandas.pydata.org/docs/user_guide/reshaping.html\n",
        "\n",
        "https://datascience.quantecon.org/pandas/reshape.html "
      ]
    },
    {
      "cell_type": "code",
      "metadata": {
        "id": "oC-MrvTpJbHt",
        "colab_type": "code",
        "colab": {
          "base_uri": "https://localhost:8080/",
          "height": 141
        },
        "outputId": "9ba6041e-e8c7-4596-e197-e8457d8af73a"
      },
      "source": [
        "df1990_melt = df1990.melt(id_vars=['state_fips','county_fips','year','cnty_name'])\n",
        "df1990_melt"
      ],
      "execution_count": null,
      "outputs": [
        {
          "output_type": "execute_result",
          "data": {
            "text/html": [
              "<div>\n",
              "<style scoped>\n",
              "    .dataframe tbody tr th:only-of-type {\n",
              "        vertical-align: middle;\n",
              "    }\n",
              "\n",
              "    .dataframe tbody tr th {\n",
              "        vertical-align: top;\n",
              "    }\n",
              "\n",
              "    .dataframe thead th {\n",
              "        text-align: right;\n",
              "    }\n",
              "</style>\n",
              "<table border=\"1\" class=\"dataframe\">\n",
              "  <thead>\n",
              "    <tr style=\"text-align: right;\">\n",
              "      <th></th>\n",
              "      <th>state_fips</th>\n",
              "      <th>county_fips</th>\n",
              "      <th>year</th>\n",
              "      <th>cnty_name</th>\n",
              "      <th>variable</th>\n",
              "      <th>value</th>\n",
              "    </tr>\n",
              "  </thead>\n",
              "  <tbody>\n",
              "    <tr>\n",
              "      <th>0</th>\n",
              "      <td>21</td>\n",
              "      <td>015</td>\n",
              "      <td>1990</td>\n",
              "      <td>Boone County</td>\n",
              "      <td>Male</td>\n",
              "      <td>28111</td>\n",
              "    </tr>\n",
              "    <tr>\n",
              "      <th>1</th>\n",
              "      <td>21</td>\n",
              "      <td>015</td>\n",
              "      <td>1990</td>\n",
              "      <td>Boone County</td>\n",
              "      <td>Female</td>\n",
              "      <td>29478</td>\n",
              "    </tr>\n",
              "    <tr>\n",
              "      <th>2</th>\n",
              "      <td>21</td>\n",
              "      <td>015</td>\n",
              "      <td>1990</td>\n",
              "      <td>Boone County</td>\n",
              "      <td>Total</td>\n",
              "      <td>57589</td>\n",
              "    </tr>\n",
              "  </tbody>\n",
              "</table>\n",
              "</div>"
            ],
            "text/plain": [
              "  state_fips county_fips  year     cnty_name variable  value\n",
              "0         21         015  1990  Boone County     Male  28111\n",
              "1         21         015  1990  Boone County   Female  29478\n",
              "2         21         015  1990  Boone County    Total  57589"
            ]
          },
          "metadata": {
            "tags": []
          },
          "execution_count": 12
        }
      ]
    },
    {
      "cell_type": "code",
      "metadata": {
        "id": "bLDCzxapLscW",
        "colab_type": "code",
        "colab": {
          "base_uri": "https://localhost:8080/",
          "height": 141
        },
        "outputId": "47fae1f5-e0a9-49b5-8692-22951d2cbfcd"
      },
      "source": [
        "df1990_melt = df1990_melt.rename(columns={\"value\": \"1990\", \"variable\": \"population\"})\n",
        "df1990_melt = df1990_melt.drop(columns=['year'])\n",
        "df1990_melt"
      ],
      "execution_count": null,
      "outputs": [
        {
          "output_type": "execute_result",
          "data": {
            "text/html": [
              "<div>\n",
              "<style scoped>\n",
              "    .dataframe tbody tr th:only-of-type {\n",
              "        vertical-align: middle;\n",
              "    }\n",
              "\n",
              "    .dataframe tbody tr th {\n",
              "        vertical-align: top;\n",
              "    }\n",
              "\n",
              "    .dataframe thead th {\n",
              "        text-align: right;\n",
              "    }\n",
              "</style>\n",
              "<table border=\"1\" class=\"dataframe\">\n",
              "  <thead>\n",
              "    <tr style=\"text-align: right;\">\n",
              "      <th></th>\n",
              "      <th>state_fips</th>\n",
              "      <th>county_fips</th>\n",
              "      <th>cnty_name</th>\n",
              "      <th>population</th>\n",
              "      <th>1990</th>\n",
              "    </tr>\n",
              "  </thead>\n",
              "  <tbody>\n",
              "    <tr>\n",
              "      <th>0</th>\n",
              "      <td>21</td>\n",
              "      <td>015</td>\n",
              "      <td>Boone County</td>\n",
              "      <td>Male</td>\n",
              "      <td>28111</td>\n",
              "    </tr>\n",
              "    <tr>\n",
              "      <th>1</th>\n",
              "      <td>21</td>\n",
              "      <td>015</td>\n",
              "      <td>Boone County</td>\n",
              "      <td>Female</td>\n",
              "      <td>29478</td>\n",
              "    </tr>\n",
              "    <tr>\n",
              "      <th>2</th>\n",
              "      <td>21</td>\n",
              "      <td>015</td>\n",
              "      <td>Boone County</td>\n",
              "      <td>Total</td>\n",
              "      <td>57589</td>\n",
              "    </tr>\n",
              "  </tbody>\n",
              "</table>\n",
              "</div>"
            ],
            "text/plain": [
              "  state_fips county_fips     cnty_name population   1990\n",
              "0         21         015  Boone County       Male  28111\n",
              "1         21         015  Boone County     Female  29478\n",
              "2         21         015  Boone County      Total  57589"
            ]
          },
          "metadata": {
            "tags": []
          },
          "execution_count": 13
        }
      ]
    },
    {
      "cell_type": "code",
      "metadata": {
        "id": "p2-eqr-_MZ0G",
        "colab_type": "code",
        "colab": {
          "base_uri": "https://localhost:8080/",
          "height": 141
        },
        "outputId": "ff7663e0-303a-45c0-8cb6-e61b35859fd0"
      },
      "source": [
        "df2000_melt = df2000.melt(id_vars=['state_fips','county_fips','year','cnty_name'])\n",
        "df2000_melt = df2000_melt.rename(columns={\"value\": \"2000\",  \"variable\": \"population\"})\n",
        "df2000_melt = df2000_melt.drop(columns=['year'])\n",
        "df2000_melt"
      ],
      "execution_count": null,
      "outputs": [
        {
          "output_type": "execute_result",
          "data": {
            "text/html": [
              "<div>\n",
              "<style scoped>\n",
              "    .dataframe tbody tr th:only-of-type {\n",
              "        vertical-align: middle;\n",
              "    }\n",
              "\n",
              "    .dataframe tbody tr th {\n",
              "        vertical-align: top;\n",
              "    }\n",
              "\n",
              "    .dataframe thead th {\n",
              "        text-align: right;\n",
              "    }\n",
              "</style>\n",
              "<table border=\"1\" class=\"dataframe\">\n",
              "  <thead>\n",
              "    <tr style=\"text-align: right;\">\n",
              "      <th></th>\n",
              "      <th>state_fips</th>\n",
              "      <th>county_fips</th>\n",
              "      <th>cnty_name</th>\n",
              "      <th>population</th>\n",
              "      <th>2000</th>\n",
              "    </tr>\n",
              "  </thead>\n",
              "  <tbody>\n",
              "    <tr>\n",
              "      <th>0</th>\n",
              "      <td>21</td>\n",
              "      <td>015</td>\n",
              "      <td>Boone County</td>\n",
              "      <td>Male</td>\n",
              "      <td>42499</td>\n",
              "    </tr>\n",
              "    <tr>\n",
              "      <th>1</th>\n",
              "      <td>21</td>\n",
              "      <td>015</td>\n",
              "      <td>Boone County</td>\n",
              "      <td>Female</td>\n",
              "      <td>43492</td>\n",
              "    </tr>\n",
              "    <tr>\n",
              "      <th>2</th>\n",
              "      <td>21</td>\n",
              "      <td>015</td>\n",
              "      <td>Boone County</td>\n",
              "      <td>Total</td>\n",
              "      <td>85991</td>\n",
              "    </tr>\n",
              "  </tbody>\n",
              "</table>\n",
              "</div>"
            ],
            "text/plain": [
              "  state_fips county_fips     cnty_name population   2000\n",
              "0         21         015  Boone County       Male  42499\n",
              "1         21         015  Boone County     Female  43492\n",
              "2         21         015  Boone County      Total  85991"
            ]
          },
          "metadata": {
            "tags": []
          },
          "execution_count": 14
        }
      ]
    },
    {
      "cell_type": "markdown",
      "metadata": {
        "id": "Tk5OhwWEMu73",
        "colab_type": "text"
      },
      "source": [
        "### 2.3 Merge dataframes together\n",
        "\n",
        "Now that the 2 dataframes are in the correct format, we are ready to merge them togther. \n",
        "\n",
        "The merge will be based on the fips codes for the state and county which uniquely identify the census geography and the variable population which identifies male, femal and total.\n",
        "\n"
      ]
    },
    {
      "cell_type": "code",
      "metadata": {
        "id": "k8XUHFQQMZ-S",
        "colab_type": "code",
        "colab": {
          "base_uri": "https://localhost:8080/",
          "height": 141
        },
        "outputId": "c05b9b50-ae73-4339-9d8c-4c34ac65f72b"
      },
      "source": [
        "df_merged = df1990_melt.merge(df2000_melt, left_on=['state_fips','county_fips', 'cnty_name','population'], \n",
        "                              right_on=['state_fips','county_fips','cnty_name','population'])\n",
        "df_merged"
      ],
      "execution_count": null,
      "outputs": [
        {
          "output_type": "execute_result",
          "data": {
            "text/html": [
              "<div>\n",
              "<style scoped>\n",
              "    .dataframe tbody tr th:only-of-type {\n",
              "        vertical-align: middle;\n",
              "    }\n",
              "\n",
              "    .dataframe tbody tr th {\n",
              "        vertical-align: top;\n",
              "    }\n",
              "\n",
              "    .dataframe thead th {\n",
              "        text-align: right;\n",
              "    }\n",
              "</style>\n",
              "<table border=\"1\" class=\"dataframe\">\n",
              "  <thead>\n",
              "    <tr style=\"text-align: right;\">\n",
              "      <th></th>\n",
              "      <th>state_fips</th>\n",
              "      <th>county_fips</th>\n",
              "      <th>cnty_name</th>\n",
              "      <th>population</th>\n",
              "      <th>1990</th>\n",
              "      <th>2000</th>\n",
              "    </tr>\n",
              "  </thead>\n",
              "  <tbody>\n",
              "    <tr>\n",
              "      <th>0</th>\n",
              "      <td>21</td>\n",
              "      <td>015</td>\n",
              "      <td>Boone County</td>\n",
              "      <td>Male</td>\n",
              "      <td>28111</td>\n",
              "      <td>42499</td>\n",
              "    </tr>\n",
              "    <tr>\n",
              "      <th>1</th>\n",
              "      <td>21</td>\n",
              "      <td>015</td>\n",
              "      <td>Boone County</td>\n",
              "      <td>Female</td>\n",
              "      <td>29478</td>\n",
              "      <td>43492</td>\n",
              "    </tr>\n",
              "    <tr>\n",
              "      <th>2</th>\n",
              "      <td>21</td>\n",
              "      <td>015</td>\n",
              "      <td>Boone County</td>\n",
              "      <td>Total</td>\n",
              "      <td>57589</td>\n",
              "      <td>85991</td>\n",
              "    </tr>\n",
              "  </tbody>\n",
              "</table>\n",
              "</div>"
            ],
            "text/plain": [
              "  state_fips county_fips     cnty_name population   1990   2000\n",
              "0         21         015  Boone County       Male  28111  42499\n",
              "1         21         015  Boone County     Female  29478  43492\n",
              "2         21         015  Boone County      Total  57589  85991"
            ]
          },
          "metadata": {
            "tags": []
          },
          "execution_count": 15
        }
      ]
    },
    {
      "cell_type": "markdown",
      "metadata": {
        "id": "1fk9nUGa3Shs",
        "colab_type": "text"
      },
      "source": [
        "### 2.4 Check Data Types\n",
        "\n",
        "Pandas stores data as different [data types](https://pandas.pydata.org/pandas-docs/stable/user_guide/basics.html#basics-dtypes). The default datatype is `object`. The following sections checks the data types for each variable and then changes the data types for the population size. The `int` data type is for an integer, or a number. When python recognizes a variable as an integer the variables can be used in math equations.\n"
      ]
    },
    {
      "cell_type": "code",
      "metadata": {
        "id": "iFg1y4IIWuaz",
        "colab_type": "code",
        "colab": {
          "base_uri": "https://localhost:8080/",
          "height": 139
        },
        "outputId": "3e82c6e6-0512-4b09-87ca-4b4f974d9a53"
      },
      "source": [
        "df_merged.dtypes"
      ],
      "execution_count": null,
      "outputs": [
        {
          "output_type": "execute_result",
          "data": {
            "text/plain": [
              "state_fips     object\n",
              "county_fips    object\n",
              "cnty_name      object\n",
              "population     object\n",
              "1990           object\n",
              "2000           object\n",
              "dtype: object"
            ]
          },
          "metadata": {
            "tags": []
          },
          "execution_count": 16
        }
      ]
    },
    {
      "cell_type": "code",
      "metadata": {
        "id": "r0hGzkIgW5r1",
        "colab_type": "code",
        "colab": {
          "base_uri": "https://localhost:8080/",
          "height": 139
        },
        "outputId": "26602501-b550-49c1-eee9-f516733d29df"
      },
      "source": [
        "# fix data types (integer): need to change data types to run diff and pct_change\n",
        "df_merged[\"2000\"] = df_merged[\"2000\"].astype(int)\n",
        "df_merged[\"1990\"] = df_merged[\"1990\"].astype(int)\n",
        "df_merged.dtypes"
      ],
      "execution_count": null,
      "outputs": [
        {
          "output_type": "execute_result",
          "data": {
            "text/plain": [
              "state_fips     object\n",
              "county_fips    object\n",
              "cnty_name      object\n",
              "population     object\n",
              "1990            int64\n",
              "2000            int64\n",
              "dtype: object"
            ]
          },
          "metadata": {
            "tags": []
          },
          "execution_count": 17
        }
      ]
    },
    {
      "cell_type": "markdown",
      "metadata": {
        "id": "pt3aEKIMNMeL",
        "colab_type": "text"
      },
      "source": [
        "## Datastep 3. Explore Data - Population Changes \n",
        "\n",
        "Now that the data is cleaned we can explore the data. Wang and vom Hofe (2006) describe four demographic concepts for population change: absolute change, percent change, average annual\n",
        "absolute change, or average annual percent change. We use the population totals for Boone County for 1990 and 2000 (e.g., 57,589 and 85,991 respectively) to calculate the two of the concepts:\n",
        "\n",
        "**Absolute change:** subtract the 1990 population from the 2000 population:\n",
        "\n",
        "$${85,991 - 57,589}= 28,402 $$\n",
        "\n",
        "**Percent change:** divide the absolute population change by the 1990 population to get percentages:\n",
        "\n",
        "$${{28,402} \\over 57,589}= 0.493*100 = 49.3\\% $$"
      ]
    },
    {
      "cell_type": "code",
      "metadata": {
        "id": "9H75fnK3XO1g",
        "colab_type": "code",
        "colab": {
          "base_uri": "https://localhost:8080/",
          "height": 141
        },
        "outputId": "7de79bd2-0a53-410b-e902-3a1466ce8048"
      },
      "source": [
        "# create new column showing \"absolute change\"\n",
        "df_merged[\"Absolute Change\"] = df_merged[\"2000\"] - df_merged[\"1990\"]\n",
        "df_merged[\"Percent Change\"] = df_merged['Absolute Change']/df_merged[\"1990\"] * 100\n",
        "df_merged.head()"
      ],
      "execution_count": null,
      "outputs": [
        {
          "output_type": "execute_result",
          "data": {
            "text/html": [
              "<div>\n",
              "<style scoped>\n",
              "    .dataframe tbody tr th:only-of-type {\n",
              "        vertical-align: middle;\n",
              "    }\n",
              "\n",
              "    .dataframe tbody tr th {\n",
              "        vertical-align: top;\n",
              "    }\n",
              "\n",
              "    .dataframe thead th {\n",
              "        text-align: right;\n",
              "    }\n",
              "</style>\n",
              "<table border=\"1\" class=\"dataframe\">\n",
              "  <thead>\n",
              "    <tr style=\"text-align: right;\">\n",
              "      <th></th>\n",
              "      <th>state_fips</th>\n",
              "      <th>county_fips</th>\n",
              "      <th>cnty_name</th>\n",
              "      <th>population</th>\n",
              "      <th>1990</th>\n",
              "      <th>2000</th>\n",
              "      <th>Absolute Change</th>\n",
              "      <th>Percent Change</th>\n",
              "    </tr>\n",
              "  </thead>\n",
              "  <tbody>\n",
              "    <tr>\n",
              "      <th>0</th>\n",
              "      <td>21</td>\n",
              "      <td>015</td>\n",
              "      <td>Boone County</td>\n",
              "      <td>Male</td>\n",
              "      <td>28111</td>\n",
              "      <td>42499</td>\n",
              "      <td>14388</td>\n",
              "      <td>51.182811</td>\n",
              "    </tr>\n",
              "    <tr>\n",
              "      <th>1</th>\n",
              "      <td>21</td>\n",
              "      <td>015</td>\n",
              "      <td>Boone County</td>\n",
              "      <td>Female</td>\n",
              "      <td>29478</td>\n",
              "      <td>43492</td>\n",
              "      <td>14014</td>\n",
              "      <td>47.540539</td>\n",
              "    </tr>\n",
              "    <tr>\n",
              "      <th>2</th>\n",
              "      <td>21</td>\n",
              "      <td>015</td>\n",
              "      <td>Boone County</td>\n",
              "      <td>Total</td>\n",
              "      <td>57589</td>\n",
              "      <td>85991</td>\n",
              "      <td>28402</td>\n",
              "      <td>49.318446</td>\n",
              "    </tr>\n",
              "  </tbody>\n",
              "</table>\n",
              "</div>"
            ],
            "text/plain": [
              "  state_fips county_fips     cnty_name  ...   2000  Absolute Change  Percent Change\n",
              "0         21         015  Boone County  ...  42499            14388       51.182811\n",
              "1         21         015  Boone County  ...  43492            14014       47.540539\n",
              "2         21         015  Boone County  ...  85991            28402       49.318446\n",
              "\n",
              "[3 rows x 8 columns]"
            ]
          },
          "metadata": {
            "tags": []
          },
          "execution_count": 18
        }
      ]
    },
    {
      "cell_type": "markdown",
      "metadata": {
        "id": "ZboxmCGwPUOU",
        "colab_type": "text"
      },
      "source": [
        "## Datasetp 4: Interpret Data\n",
        "\n",
        "A positive number for **absolute change** refers to a population increase while a negative number\n",
        "indicates a decline in population size. Boone County's population grew by 28,402 people or 49.3% between 1990 and 2000. \n",
        "\n",
        "\n"
      ]
    },
    {
      "cell_type": "markdown",
      "metadata": {
        "id": "upL2-WSz-tGV",
        "colab_type": "text"
      },
      "source": [
        "## Datastep 5: Publish data\n",
        "\n",
        "To publish the data from this notebook we need to first format the data. Formatting includes:\n",
        "*   updating the column names,\n",
        "*   adding commas to numbers\n",
        "*   setting the percision or the number of digits after the decimal place\n",
        "*   adding percent signs\n",
        "\n",
        "In the previous table notices that the numbers do not have commas. Commas help the reader compare big numbers. A comma is placed every third digit. Also notice that for the percentages there are many digigts after the decimal place. In general a reader will not care if the population has grown by 49.318446. A well formatted number includes just the right level of percision - usually one or two digits after the decimal. Finally, the percent sign is important and lets the reader know that the number is a ratio and that it has been multiplied by 100.\n",
        "\n"
      ]
    },
    {
      "cell_type": "code",
      "metadata": {
        "id": "4d7tAdqrPTc8",
        "colab_type": "code",
        "colab": {
          "base_uri": "https://localhost:8080/",
          "height": 141
        },
        "outputId": "12cb8cd9-f6ec-4e7f-e307-5094bb6826f3"
      },
      "source": [
        "# Create a copy of the cleaned dataset\n",
        "df_formatted = df_merged.copy()\n",
        "\n",
        "# Add a comma to the population size data\n",
        "df_formatted[\"1990\"] = df_formatted.apply(lambda x: \"{:,}\".format(x['1990']), axis=1)\n",
        "df_formatted[\"2000\"] = df_formatted.apply(lambda x: \"{:,}\".format(x['2000']), axis=1)\n",
        "df_formatted[\"Absolute Change\"] = df_formatted.apply(lambda x: \"{:,}\".format(x['Absolute Change']), axis=1)\n",
        "\n",
        "# Set the percision to 1 decimal place and add a % sign\n",
        "df_formatted[\"Percent Change\"] = df_formatted.apply(lambda x: \"{0:.1f}%\".format(x['Percent Change']), axis=1)\n",
        "df_formatted"
      ],
      "execution_count": null,
      "outputs": [
        {
          "output_type": "execute_result",
          "data": {
            "text/html": [
              "<div>\n",
              "<style scoped>\n",
              "    .dataframe tbody tr th:only-of-type {\n",
              "        vertical-align: middle;\n",
              "    }\n",
              "\n",
              "    .dataframe tbody tr th {\n",
              "        vertical-align: top;\n",
              "    }\n",
              "\n",
              "    .dataframe thead th {\n",
              "        text-align: right;\n",
              "    }\n",
              "</style>\n",
              "<table border=\"1\" class=\"dataframe\">\n",
              "  <thead>\n",
              "    <tr style=\"text-align: right;\">\n",
              "      <th></th>\n",
              "      <th>state_fips</th>\n",
              "      <th>county_fips</th>\n",
              "      <th>cnty_name</th>\n",
              "      <th>population</th>\n",
              "      <th>1990</th>\n",
              "      <th>2000</th>\n",
              "      <th>Absolute Change</th>\n",
              "      <th>Percent Change</th>\n",
              "    </tr>\n",
              "  </thead>\n",
              "  <tbody>\n",
              "    <tr>\n",
              "      <th>0</th>\n",
              "      <td>21</td>\n",
              "      <td>015</td>\n",
              "      <td>Boone County</td>\n",
              "      <td>Male</td>\n",
              "      <td>28,111</td>\n",
              "      <td>42,499</td>\n",
              "      <td>14,388</td>\n",
              "      <td>51.2%</td>\n",
              "    </tr>\n",
              "    <tr>\n",
              "      <th>1</th>\n",
              "      <td>21</td>\n",
              "      <td>015</td>\n",
              "      <td>Boone County</td>\n",
              "      <td>Female</td>\n",
              "      <td>29,478</td>\n",
              "      <td>43,492</td>\n",
              "      <td>14,014</td>\n",
              "      <td>47.5%</td>\n",
              "    </tr>\n",
              "    <tr>\n",
              "      <th>2</th>\n",
              "      <td>21</td>\n",
              "      <td>015</td>\n",
              "      <td>Boone County</td>\n",
              "      <td>Total</td>\n",
              "      <td>57,589</td>\n",
              "      <td>85,991</td>\n",
              "      <td>28,402</td>\n",
              "      <td>49.3%</td>\n",
              "    </tr>\n",
              "  </tbody>\n",
              "</table>\n",
              "</div>"
            ],
            "text/plain": [
              "  state_fips county_fips     cnty_name  ...    2000 Absolute Change Percent Change\n",
              "0         21         015  Boone County  ...  42,499          14,388          51.2%\n",
              "1         21         015  Boone County  ...  43,492          14,014          47.5%\n",
              "2         21         015  Boone County  ...  85,991          28,402          49.3%\n",
              "\n",
              "[3 rows x 8 columns]"
            ]
          },
          "metadata": {
            "tags": []
          },
          "execution_count": 19
        }
      ]
    },
    {
      "cell_type": "markdown",
      "metadata": {
        "id": "mu7xmznRT3X9",
        "colab_type": "text"
      },
      "source": [
        "## 5.1 Save work as a CSV File\n",
        "For the work to be avaiable outside of Jupyter Notebook we need to save the results as a csv file. A CSV (Comma Seperated Values) file can be read by Microsoft Excel and then copied into a Word document for a report.\n",
        "\n",
        "The file will be saved to the current directory - which in Google Colab content folder. This is accessible on the right hand side bar - click on the file folder. You can locate the file in the content folder and right-click to select download."
      ]
    },
    {
      "cell_type": "code",
      "metadata": {
        "id": "kAUaACLRPR3b",
        "colab_type": "code",
        "colab": {}
      },
      "source": [
        "df_formatted.to_csv('CensusAPI_PopulationSize_2020-07-29.csv')"
      ],
      "execution_count": null,
      "outputs": []
    }
  ]
}