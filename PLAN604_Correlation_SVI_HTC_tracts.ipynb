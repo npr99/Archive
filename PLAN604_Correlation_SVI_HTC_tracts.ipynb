{
  "nbformat": 4,
  "nbformat_minor": 0,
  "metadata": {
    "colab": {
      "name": "PLAN604_Correlation_SVI_HTC_tracts",
      "provenance": [],
      "authorship_tag": "ABX9TyPS+0KsWGOurQQEhnYEnl2E",
      "include_colab_link": true
    },
    "kernelspec": {
      "name": "python3",
      "display_name": "Python 3"
    }
  },
  "cells": [
    {
      "cell_type": "markdown",
      "metadata": {
        "id": "view-in-github",
        "colab_type": "text"
      },
      "source": [
        "<a href=\"https://colab.research.google.com/github/npr99/Archive/blob/master/PLAN604_Correlation_SVI_HTC_tracts.ipynb\" target=\"_parent\"><img src=\"https://colab.research.google.com/assets/colab-badge.svg\" alt=\"Open In Colab\"/></a>"
      ]
    },
    {
      "cell_type": "markdown",
      "metadata": {
        "id": "P-EggxqJwovL"
      },
      "source": [
        "# Correlation between Social Vulnerability and Census Response Rate\n",
        " \n",
        "---\n",
        "\n",
        "\n"
      ]
    },
    {
      "cell_type": "code",
      "metadata": {
        "id": "jxd6s7EZwjb6"
      },
      "source": [
        "# Python packages required to read in and Census API data\n",
        "import requests ## Required for the Census API\n",
        "import pandas as pd # For reading, writing and wrangling data"
      ],
      "execution_count": 1,
      "outputs": []
    },
    {
      "cell_type": "markdown",
      "metadata": {
        "id": "lwbY5z9jxDo7"
      },
      "source": [
        "## Step 1: Obtain Data"
      ]
    },
    {
      "cell_type": "code",
      "metadata": {
        "colab": {
          "base_uri": "https://localhost:8080/"
        },
        "id": "cc-f-0vJS8rs",
        "outputId": "057567a7-3940-40d0-f030-ba79ea396297"
      },
      "source": [
        "!wget https://www.censushardtocountmaps2020.us/exports/pdb2017tract_2010MRR_2018ACS_NC.xlsx"
      ],
      "execution_count": 8,
      "outputs": [
        {
          "output_type": "stream",
          "name": "stdout",
          "text": [
            "--2021-11-01 16:19:28--  https://www.censushardtocountmaps2020.us/exports/pdb2017tract_2010MRR_2018ACS_NC.xlsx\n",
            "Resolving www.censushardtocountmaps2020.us (www.censushardtocountmaps2020.us)... 104.22.43.203, 172.67.27.143, 104.22.42.203, ...\n",
            "Connecting to www.censushardtocountmaps2020.us (www.censushardtocountmaps2020.us)|104.22.43.203|:443... connected.\n",
            "HTTP request sent, awaiting response... 200 OK\n",
            "Length: 2353146 (2.2M) [application/vnd.openxmlformats-officedocument.spreadsheetml.sheet]\n",
            "Saving to: ‘pdb2017tract_2010MRR_2018ACS_NC.xlsx’\n",
            "\n",
            "pdb2017tract_2010MR 100%[===================>]   2.24M  6.33MB/s    in 0.4s    \n",
            "\n",
            "2021-11-01 16:19:29 (6.33 MB/s) - ‘pdb2017tract_2010MRR_2018ACS_NC.xlsx’ saved [2353146/2353146]\n",
            "\n"
          ]
        }
      ]
    },
    {
      "cell_type": "code",
      "metadata": {
        "colab": {
          "base_uri": "https://localhost:8080/"
        },
        "id": "7x2U9RBlQaF1",
        "outputId": "c843260b-9058-49db-bd38-6ef5f4e56df3"
      },
      "source": [
        "excel_file = pd.ExcelFile('pdb2017tract_2010MRR_2018ACS_NC.xlsx')\n",
        "excel_file.sheet_names  # see all sheet names"
      ],
      "execution_count": 11,
      "outputs": [
        {
          "output_type": "execute_result",
          "data": {
            "text/plain": [
              "['ACS2014-18', 'ACS2014-18 PERCENTS', 'FIELDNAMES']"
            ]
          },
          "metadata": {},
          "execution_count": 11
        }
      ]
    },
    {
      "cell_type": "code",
      "metadata": {
        "colab": {
          "base_uri": "https://localhost:8080/",
          "height": 204
        },
        "id": "8TVNwy1QTXAI",
        "outputId": "845f89c3-d658-4b23-e16a-c743c6df7f28"
      },
      "source": [
        "censushtc_df = pd.read_excel('pdb2017tract_2010MRR_2018ACS_NC.xlsx',sheet_name = 'ACS2014-18', usecols = \"A:I\", header = 5)\n",
        "censushtc_df.head()"
      ],
      "execution_count": 12,
      "outputs": [
        {
          "output_type": "execute_result",
          "data": {
            "text/html": [
              "<div>\n",
              "<style scoped>\n",
              "    .dataframe tbody tr th:only-of-type {\n",
              "        vertical-align: middle;\n",
              "    }\n",
              "\n",
              "    .dataframe tbody tr th {\n",
              "        vertical-align: top;\n",
              "    }\n",
              "\n",
              "    .dataframe thead th {\n",
              "        text-align: right;\n",
              "    }\n",
              "</style>\n",
              "<table border=\"1\" class=\"dataframe\">\n",
              "  <thead>\n",
              "    <tr style=\"text-align: right;\">\n",
              "      <th></th>\n",
              "      <th>GEOIDtxt</th>\n",
              "      <th>StateFIPS</th>\n",
              "      <th>StateAbb</th>\n",
              "      <th>StateName</th>\n",
              "      <th>CountyFIPS</th>\n",
              "      <th>CountyName</th>\n",
              "      <th>TractFIPS</th>\n",
              "      <th>MailReturnRateCen2010</th>\n",
              "      <th>LowResponseScore</th>\n",
              "    </tr>\n",
              "  </thead>\n",
              "  <tbody>\n",
              "    <tr>\n",
              "      <th>0</th>\n",
              "      <td>37001020100</td>\n",
              "      <td>37</td>\n",
              "      <td>NC</td>\n",
              "      <td>North Carolina</td>\n",
              "      <td>1</td>\n",
              "      <td>Alamance County</td>\n",
              "      <td>201.00</td>\n",
              "      <td>80.5</td>\n",
              "      <td>22.4</td>\n",
              "    </tr>\n",
              "    <tr>\n",
              "      <th>1</th>\n",
              "      <td>37001020200</td>\n",
              "      <td>37</td>\n",
              "      <td>NC</td>\n",
              "      <td>North Carolina</td>\n",
              "      <td>1</td>\n",
              "      <td>Alamance County</td>\n",
              "      <td>202.00</td>\n",
              "      <td>78.9</td>\n",
              "      <td>27.7</td>\n",
              "    </tr>\n",
              "    <tr>\n",
              "      <th>2</th>\n",
              "      <td>37001020300</td>\n",
              "      <td>37</td>\n",
              "      <td>NC</td>\n",
              "      <td>North Carolina</td>\n",
              "      <td>1</td>\n",
              "      <td>Alamance County</td>\n",
              "      <td>203.00</td>\n",
              "      <td>79.9</td>\n",
              "      <td>26.2</td>\n",
              "    </tr>\n",
              "    <tr>\n",
              "      <th>3</th>\n",
              "      <td>37001020400</td>\n",
              "      <td>37</td>\n",
              "      <td>NC</td>\n",
              "      <td>North Carolina</td>\n",
              "      <td>1</td>\n",
              "      <td>Alamance County</td>\n",
              "      <td>204.00</td>\n",
              "      <td>75.7</td>\n",
              "      <td>28.0</td>\n",
              "    </tr>\n",
              "    <tr>\n",
              "      <th>4</th>\n",
              "      <td>37001020501</td>\n",
              "      <td>37</td>\n",
              "      <td>NC</td>\n",
              "      <td>North Carolina</td>\n",
              "      <td>1</td>\n",
              "      <td>Alamance County</td>\n",
              "      <td>205.01</td>\n",
              "      <td>85.8</td>\n",
              "      <td>22.2</td>\n",
              "    </tr>\n",
              "  </tbody>\n",
              "</table>\n",
              "</div>"
            ],
            "text/plain": [
              "      GEOIDtxt  StateFIPS  ... MailReturnRateCen2010 LowResponseScore\n",
              "0  37001020100         37  ...                  80.5             22.4\n",
              "1  37001020200         37  ...                  78.9             27.7\n",
              "2  37001020300         37  ...                  79.9             26.2\n",
              "3  37001020400         37  ...                  75.7             28.0\n",
              "4  37001020501         37  ...                  85.8             22.2\n",
              "\n",
              "[5 rows x 9 columns]"
            ]
          },
          "metadata": {},
          "execution_count": 12
        }
      ]
    },
    {
      "cell_type": "markdown",
      "metadata": {
        "id": "o0VWikCSVQJq"
      },
      "source": [
        "LowResponseScore: Census Bureau's predictive model score indicating share of households likely not to self-respond to 2020 Census (from 2019 Planning Database).  \"99999\" means no score was calculated was recorded for this tract."
      ]
    },
    {
      "cell_type": "markdown",
      "metadata": {
        "id": "ZlyZPjJ-VUY3"
      },
      "source": [
        "### Obtain CDC SVI data"
      ]
    },
    {
      "cell_type": "code",
      "metadata": {
        "id": "TrXui4kNw-QM",
        "colab": {
          "base_uri": "https://localhost:8080/"
        },
        "outputId": "432fc628-8814-4989-d142-5444357aaeb6"
      },
      "source": [
        " !wget https://svi.cdc.gov/Documents/Data/2018_SVI_Data/CSV/States/NorthCarolina.csv"
      ],
      "execution_count": 13,
      "outputs": [
        {
          "output_type": "stream",
          "name": "stdout",
          "text": [
            "--2021-11-01 16:25:24--  https://svi.cdc.gov/Documents/Data/2018_SVI_Data/CSV/States/NorthCarolina.csv\n",
            "Resolving svi.cdc.gov (svi.cdc.gov)... 23.222.65.138, 2a02:26f0:b200:1b8::2461, 2a02:26f0:b200:195::2461\n",
            "Connecting to svi.cdc.gov (svi.cdc.gov)|23.222.65.138|:443... connected.\n",
            "HTTP request sent, awaiting response... 200 OK\n",
            "Length: 1356310 (1.3M) [application/octet-stream]\n",
            "Saving to: ‘NorthCarolina.csv’\n",
            "\n",
            "NorthCarolina.csv   100%[===================>]   1.29M   592KB/s    in 2.2s    \n",
            "\n",
            "2021-11-01 16:25:27 (592 KB/s) - ‘NorthCarolina.csv’ saved [1356310/1356310]\n",
            "\n"
          ]
        }
      ]
    },
    {
      "cell_type": "code",
      "metadata": {
        "colab": {
          "base_uri": "https://localhost:8080/",
          "height": 763
        },
        "id": "ZE7kPUugUe9E",
        "outputId": "a5147487-ea49-4d83-a800-5862ae1a0e7c"
      },
      "source": [
        "cdcsvi_df = pd.read_csv('NorthCarolina.csv')\n",
        "cdcsvi_df.head()"
      ],
      "execution_count": 14,
      "outputs": [
        {
          "output_type": "execute_result",
          "data": {
            "text/html": [
              "<div>\n",
              "<style scoped>\n",
              "    .dataframe tbody tr th:only-of-type {\n",
              "        vertical-align: middle;\n",
              "    }\n",
              "\n",
              "    .dataframe tbody tr th {\n",
              "        vertical-align: top;\n",
              "    }\n",
              "\n",
              "    .dataframe thead th {\n",
              "        text-align: right;\n",
              "    }\n",
              "</style>\n",
              "<table border=\"1\" class=\"dataframe\">\n",
              "  <thead>\n",
              "    <tr style=\"text-align: right;\">\n",
              "      <th></th>\n",
              "      <th>ST</th>\n",
              "      <th>STATE</th>\n",
              "      <th>ST_ABBR</th>\n",
              "      <th>STCNTY</th>\n",
              "      <th>COUNTY</th>\n",
              "      <th>FIPS</th>\n",
              "      <th>LOCATION</th>\n",
              "      <th>AREA_SQMI</th>\n",
              "      <th>E_TOTPOP</th>\n",
              "      <th>M_TOTPOP</th>\n",
              "      <th>E_HU</th>\n",
              "      <th>M_HU</th>\n",
              "      <th>E_HH</th>\n",
              "      <th>M_HH</th>\n",
              "      <th>E_POV</th>\n",
              "      <th>M_POV</th>\n",
              "      <th>E_UNEMP</th>\n",
              "      <th>M_UNEMP</th>\n",
              "      <th>E_PCI</th>\n",
              "      <th>M_PCI</th>\n",
              "      <th>E_NOHSDP</th>\n",
              "      <th>M_NOHSDP</th>\n",
              "      <th>E_AGE65</th>\n",
              "      <th>M_AGE65</th>\n",
              "      <th>E_AGE17</th>\n",
              "      <th>M_AGE17</th>\n",
              "      <th>E_DISABL</th>\n",
              "      <th>M_DISABL</th>\n",
              "      <th>E_SNGPNT</th>\n",
              "      <th>M_SNGPNT</th>\n",
              "      <th>E_MINRTY</th>\n",
              "      <th>M_MINRTY</th>\n",
              "      <th>E_LIMENG</th>\n",
              "      <th>M_LIMENG</th>\n",
              "      <th>E_MUNIT</th>\n",
              "      <th>M_MUNIT</th>\n",
              "      <th>E_MOBILE</th>\n",
              "      <th>M_MOBILE</th>\n",
              "      <th>E_CROWD</th>\n",
              "      <th>M_CROWD</th>\n",
              "      <th>...</th>\n",
              "      <th>SPL_THEME2</th>\n",
              "      <th>RPL_THEME2</th>\n",
              "      <th>EPL_MINRTY</th>\n",
              "      <th>EPL_LIMENG</th>\n",
              "      <th>SPL_THEME3</th>\n",
              "      <th>RPL_THEME3</th>\n",
              "      <th>EPL_MUNIT</th>\n",
              "      <th>EPL_MOBILE</th>\n",
              "      <th>EPL_CROWD</th>\n",
              "      <th>EPL_NOVEH</th>\n",
              "      <th>EPL_GROUPQ</th>\n",
              "      <th>SPL_THEME4</th>\n",
              "      <th>RPL_THEME4</th>\n",
              "      <th>SPL_THEMES</th>\n",
              "      <th>RPL_THEMES</th>\n",
              "      <th>F_POV</th>\n",
              "      <th>F_UNEMP</th>\n",
              "      <th>F_PCI</th>\n",
              "      <th>F_NOHSDP</th>\n",
              "      <th>F_THEME1</th>\n",
              "      <th>F_AGE65</th>\n",
              "      <th>F_AGE17</th>\n",
              "      <th>F_DISABL</th>\n",
              "      <th>F_SNGPNT</th>\n",
              "      <th>F_THEME2</th>\n",
              "      <th>F_MINRTY</th>\n",
              "      <th>F_LIMENG</th>\n",
              "      <th>F_THEME3</th>\n",
              "      <th>F_MUNIT</th>\n",
              "      <th>F_MOBILE</th>\n",
              "      <th>F_CROWD</th>\n",
              "      <th>F_NOVEH</th>\n",
              "      <th>F_GROUPQ</th>\n",
              "      <th>F_THEME4</th>\n",
              "      <th>F_TOTAL</th>\n",
              "      <th>E_UNINSUR</th>\n",
              "      <th>M_UNINSUR</th>\n",
              "      <th>EP_UNINSUR</th>\n",
              "      <th>MP_UNINSUR</th>\n",
              "      <th>E_DAYPOP</th>\n",
              "    </tr>\n",
              "  </thead>\n",
              "  <tbody>\n",
              "    <tr>\n",
              "      <th>0</th>\n",
              "      <td>37</td>\n",
              "      <td>NORTH CAROLINA</td>\n",
              "      <td>NC</td>\n",
              "      <td>37001</td>\n",
              "      <td>Alamance</td>\n",
              "      <td>37001020100</td>\n",
              "      <td>Census Tract 201, Alamance County, North Carolina</td>\n",
              "      <td>1.741971</td>\n",
              "      <td>3839</td>\n",
              "      <td>330</td>\n",
              "      <td>2033</td>\n",
              "      <td>101</td>\n",
              "      <td>1832</td>\n",
              "      <td>130</td>\n",
              "      <td>1017</td>\n",
              "      <td>290</td>\n",
              "      <td>135</td>\n",
              "      <td>86</td>\n",
              "      <td>29158</td>\n",
              "      <td>6177</td>\n",
              "      <td>400</td>\n",
              "      <td>132</td>\n",
              "      <td>670</td>\n",
              "      <td>100</td>\n",
              "      <td>710</td>\n",
              "      <td>198</td>\n",
              "      <td>855</td>\n",
              "      <td>174</td>\n",
              "      <td>164</td>\n",
              "      <td>94</td>\n",
              "      <td>1484</td>\n",
              "      <td>415</td>\n",
              "      <td>42</td>\n",
              "      <td>56</td>\n",
              "      <td>224</td>\n",
              "      <td>79</td>\n",
              "      <td>30</td>\n",
              "      <td>46</td>\n",
              "      <td>6</td>\n",
              "      <td>15</td>\n",
              "      <td>...</td>\n",
              "      <td>2.3113</td>\n",
              "      <td>0.6993</td>\n",
              "      <td>0.5995</td>\n",
              "      <td>0.4903</td>\n",
              "      <td>1.0898</td>\n",
              "      <td>0.5724</td>\n",
              "      <td>0.7498</td>\n",
              "      <td>0.2985</td>\n",
              "      <td>0.2000</td>\n",
              "      <td>0.8826</td>\n",
              "      <td>0.7668</td>\n",
              "      <td>2.8977</td>\n",
              "      <td>0.7286</td>\n",
              "      <td>8.6915</td>\n",
              "      <td>0.7038</td>\n",
              "      <td>0</td>\n",
              "      <td>0</td>\n",
              "      <td>0</td>\n",
              "      <td>0</td>\n",
              "      <td>0</td>\n",
              "      <td>0</td>\n",
              "      <td>0</td>\n",
              "      <td>1</td>\n",
              "      <td>0</td>\n",
              "      <td>1</td>\n",
              "      <td>0</td>\n",
              "      <td>0</td>\n",
              "      <td>0</td>\n",
              "      <td>0</td>\n",
              "      <td>0</td>\n",
              "      <td>0</td>\n",
              "      <td>0</td>\n",
              "      <td>0</td>\n",
              "      <td>0</td>\n",
              "      <td>1</td>\n",
              "      <td>476</td>\n",
              "      <td>163</td>\n",
              "      <td>12.4</td>\n",
              "      <td>4.2</td>\n",
              "      <td>7533</td>\n",
              "    </tr>\n",
              "    <tr>\n",
              "      <th>1</th>\n",
              "      <td>37</td>\n",
              "      <td>NORTH CAROLINA</td>\n",
              "      <td>NC</td>\n",
              "      <td>37001</td>\n",
              "      <td>Alamance</td>\n",
              "      <td>37001020200</td>\n",
              "      <td>Census Tract 202, Alamance County, North Carolina</td>\n",
              "      <td>1.333919</td>\n",
              "      <td>3929</td>\n",
              "      <td>531</td>\n",
              "      <td>1842</td>\n",
              "      <td>99</td>\n",
              "      <td>1492</td>\n",
              "      <td>136</td>\n",
              "      <td>1210</td>\n",
              "      <td>363</td>\n",
              "      <td>168</td>\n",
              "      <td>104</td>\n",
              "      <td>15631</td>\n",
              "      <td>2931</td>\n",
              "      <td>741</td>\n",
              "      <td>219</td>\n",
              "      <td>421</td>\n",
              "      <td>82</td>\n",
              "      <td>1114</td>\n",
              "      <td>296</td>\n",
              "      <td>744</td>\n",
              "      <td>227</td>\n",
              "      <td>334</td>\n",
              "      <td>125</td>\n",
              "      <td>2496</td>\n",
              "      <td>581</td>\n",
              "      <td>385</td>\n",
              "      <td>230</td>\n",
              "      <td>9</td>\n",
              "      <td>18</td>\n",
              "      <td>0</td>\n",
              "      <td>12</td>\n",
              "      <td>49</td>\n",
              "      <td>52</td>\n",
              "      <td>...</td>\n",
              "      <td>2.8664</td>\n",
              "      <td>0.9427</td>\n",
              "      <td>0.8318</td>\n",
              "      <td>0.9618</td>\n",
              "      <td>1.7936</td>\n",
              "      <td>0.9382</td>\n",
              "      <td>0.3392</td>\n",
              "      <td>0.0000</td>\n",
              "      <td>0.7359</td>\n",
              "      <td>0.7120</td>\n",
              "      <td>0.7982</td>\n",
              "      <td>2.5853</td>\n",
              "      <td>0.5904</td>\n",
              "      <td>10.8067</td>\n",
              "      <td>0.9324</td>\n",
              "      <td>1</td>\n",
              "      <td>0</td>\n",
              "      <td>1</td>\n",
              "      <td>1</td>\n",
              "      <td>3</td>\n",
              "      <td>0</td>\n",
              "      <td>0</td>\n",
              "      <td>0</td>\n",
              "      <td>1</td>\n",
              "      <td>1</td>\n",
              "      <td>0</td>\n",
              "      <td>1</td>\n",
              "      <td>1</td>\n",
              "      <td>0</td>\n",
              "      <td>0</td>\n",
              "      <td>0</td>\n",
              "      <td>0</td>\n",
              "      <td>0</td>\n",
              "      <td>0</td>\n",
              "      <td>5</td>\n",
              "      <td>659</td>\n",
              "      <td>234</td>\n",
              "      <td>16.8</td>\n",
              "      <td>5.0</td>\n",
              "      <td>2347</td>\n",
              "    </tr>\n",
              "    <tr>\n",
              "      <th>2</th>\n",
              "      <td>37</td>\n",
              "      <td>NORTH CAROLINA</td>\n",
              "      <td>NC</td>\n",
              "      <td>37001</td>\n",
              "      <td>Alamance</td>\n",
              "      <td>37001020300</td>\n",
              "      <td>Census Tract 203, Alamance County, North Carolina</td>\n",
              "      <td>4.308650</td>\n",
              "      <td>7945</td>\n",
              "      <td>756</td>\n",
              "      <td>3127</td>\n",
              "      <td>147</td>\n",
              "      <td>2850</td>\n",
              "      <td>208</td>\n",
              "      <td>1611</td>\n",
              "      <td>641</td>\n",
              "      <td>219</td>\n",
              "      <td>127</td>\n",
              "      <td>17522</td>\n",
              "      <td>1939</td>\n",
              "      <td>1344</td>\n",
              "      <td>292</td>\n",
              "      <td>1640</td>\n",
              "      <td>304</td>\n",
              "      <td>2148</td>\n",
              "      <td>542</td>\n",
              "      <td>1020</td>\n",
              "      <td>261</td>\n",
              "      <td>464</td>\n",
              "      <td>182</td>\n",
              "      <td>5842</td>\n",
              "      <td>811</td>\n",
              "      <td>950</td>\n",
              "      <td>272</td>\n",
              "      <td>67</td>\n",
              "      <td>81</td>\n",
              "      <td>619</td>\n",
              "      <td>213</td>\n",
              "      <td>195</td>\n",
              "      <td>119</td>\n",
              "      <td>...</td>\n",
              "      <td>2.9490</td>\n",
              "      <td>0.9607</td>\n",
              "      <td>0.8885</td>\n",
              "      <td>0.9774</td>\n",
              "      <td>1.8659</td>\n",
              "      <td>0.9659</td>\n",
              "      <td>0.5023</td>\n",
              "      <td>0.7126</td>\n",
              "      <td>0.9378</td>\n",
              "      <td>0.5779</td>\n",
              "      <td>0.8926</td>\n",
              "      <td>3.6232</td>\n",
              "      <td>0.9491</td>\n",
              "      <td>11.5803</td>\n",
              "      <td>0.9773</td>\n",
              "      <td>0</td>\n",
              "      <td>0</td>\n",
              "      <td>0</td>\n",
              "      <td>1</td>\n",
              "      <td>1</td>\n",
              "      <td>0</td>\n",
              "      <td>0</td>\n",
              "      <td>0</td>\n",
              "      <td>0</td>\n",
              "      <td>0</td>\n",
              "      <td>0</td>\n",
              "      <td>1</td>\n",
              "      <td>1</td>\n",
              "      <td>0</td>\n",
              "      <td>0</td>\n",
              "      <td>1</td>\n",
              "      <td>0</td>\n",
              "      <td>0</td>\n",
              "      <td>1</td>\n",
              "      <td>3</td>\n",
              "      <td>1630</td>\n",
              "      <td>405</td>\n",
              "      <td>21.4</td>\n",
              "      <td>4.6</td>\n",
              "      <td>8973</td>\n",
              "    </tr>\n",
              "    <tr>\n",
              "      <th>3</th>\n",
              "      <td>37</td>\n",
              "      <td>NORTH CAROLINA</td>\n",
              "      <td>NC</td>\n",
              "      <td>37001</td>\n",
              "      <td>Alamance</td>\n",
              "      <td>37001020400</td>\n",
              "      <td>Census Tract 204, Alamance County, North Carolina</td>\n",
              "      <td>4.462624</td>\n",
              "      <td>6931</td>\n",
              "      <td>570</td>\n",
              "      <td>2731</td>\n",
              "      <td>112</td>\n",
              "      <td>2466</td>\n",
              "      <td>150</td>\n",
              "      <td>2256</td>\n",
              "      <td>590</td>\n",
              "      <td>256</td>\n",
              "      <td>158</td>\n",
              "      <td>15527</td>\n",
              "      <td>2073</td>\n",
              "      <td>777</td>\n",
              "      <td>238</td>\n",
              "      <td>836</td>\n",
              "      <td>133</td>\n",
              "      <td>1952</td>\n",
              "      <td>373</td>\n",
              "      <td>949</td>\n",
              "      <td>222</td>\n",
              "      <td>437</td>\n",
              "      <td>177</td>\n",
              "      <td>5624</td>\n",
              "      <td>650</td>\n",
              "      <td>395</td>\n",
              "      <td>185</td>\n",
              "      <td>91</td>\n",
              "      <td>84</td>\n",
              "      <td>279</td>\n",
              "      <td>112</td>\n",
              "      <td>163</td>\n",
              "      <td>96</td>\n",
              "      <td>...</td>\n",
              "      <td>2.5375</td>\n",
              "      <td>0.8291</td>\n",
              "      <td>0.9286</td>\n",
              "      <td>0.9032</td>\n",
              "      <td>1.8318</td>\n",
              "      <td>0.9502</td>\n",
              "      <td>0.5604</td>\n",
              "      <td>0.5527</td>\n",
              "      <td>0.9336</td>\n",
              "      <td>0.8178</td>\n",
              "      <td>0.7447</td>\n",
              "      <td>3.6092</td>\n",
              "      <td>0.9468</td>\n",
              "      <td>11.2490</td>\n",
              "      <td>0.9607</td>\n",
              "      <td>1</td>\n",
              "      <td>0</td>\n",
              "      <td>1</td>\n",
              "      <td>0</td>\n",
              "      <td>2</td>\n",
              "      <td>0</td>\n",
              "      <td>0</td>\n",
              "      <td>0</td>\n",
              "      <td>1</td>\n",
              "      <td>1</td>\n",
              "      <td>1</td>\n",
              "      <td>1</td>\n",
              "      <td>2</td>\n",
              "      <td>0</td>\n",
              "      <td>0</td>\n",
              "      <td>1</td>\n",
              "      <td>0</td>\n",
              "      <td>0</td>\n",
              "      <td>1</td>\n",
              "      <td>6</td>\n",
              "      <td>1264</td>\n",
              "      <td>335</td>\n",
              "      <td>18.3</td>\n",
              "      <td>4.4</td>\n",
              "      <td>2574</td>\n",
              "    </tr>\n",
              "    <tr>\n",
              "      <th>4</th>\n",
              "      <td>37</td>\n",
              "      <td>NORTH CAROLINA</td>\n",
              "      <td>NC</td>\n",
              "      <td>37001</td>\n",
              "      <td>Alamance</td>\n",
              "      <td>37001020501</td>\n",
              "      <td>Census Tract 205.01, Alamance County, North Ca...</td>\n",
              "      <td>2.756051</td>\n",
              "      <td>3556</td>\n",
              "      <td>480</td>\n",
              "      <td>1659</td>\n",
              "      <td>88</td>\n",
              "      <td>1436</td>\n",
              "      <td>136</td>\n",
              "      <td>841</td>\n",
              "      <td>353</td>\n",
              "      <td>197</td>\n",
              "      <td>159</td>\n",
              "      <td>27875</td>\n",
              "      <td>6993</td>\n",
              "      <td>277</td>\n",
              "      <td>146</td>\n",
              "      <td>570</td>\n",
              "      <td>102</td>\n",
              "      <td>790</td>\n",
              "      <td>209</td>\n",
              "      <td>443</td>\n",
              "      <td>162</td>\n",
              "      <td>188</td>\n",
              "      <td>99</td>\n",
              "      <td>1099</td>\n",
              "      <td>651</td>\n",
              "      <td>149</td>\n",
              "      <td>100</td>\n",
              "      <td>173</td>\n",
              "      <td>100</td>\n",
              "      <td>85</td>\n",
              "      <td>70</td>\n",
              "      <td>12</td>\n",
              "      <td>24</td>\n",
              "      <td>...</td>\n",
              "      <td>2.1977</td>\n",
              "      <td>0.6171</td>\n",
              "      <td>0.5023</td>\n",
              "      <td>0.8359</td>\n",
              "      <td>1.3382</td>\n",
              "      <td>0.7253</td>\n",
              "      <td>0.7369</td>\n",
              "      <td>0.4616</td>\n",
              "      <td>0.3000</td>\n",
              "      <td>0.0379</td>\n",
              "      <td>0.3544</td>\n",
              "      <td>1.8908</td>\n",
              "      <td>0.2816</td>\n",
              "      <td>8.0212</td>\n",
              "      <td>0.6127</td>\n",
              "      <td>0</td>\n",
              "      <td>0</td>\n",
              "      <td>0</td>\n",
              "      <td>0</td>\n",
              "      <td>0</td>\n",
              "      <td>0</td>\n",
              "      <td>0</td>\n",
              "      <td>0</td>\n",
              "      <td>0</td>\n",
              "      <td>0</td>\n",
              "      <td>0</td>\n",
              "      <td>0</td>\n",
              "      <td>0</td>\n",
              "      <td>0</td>\n",
              "      <td>0</td>\n",
              "      <td>0</td>\n",
              "      <td>0</td>\n",
              "      <td>0</td>\n",
              "      <td>0</td>\n",
              "      <td>0</td>\n",
              "      <td>451</td>\n",
              "      <td>193</td>\n",
              "      <td>12.7</td>\n",
              "      <td>4.8</td>\n",
              "      <td>2333</td>\n",
              "    </tr>\n",
              "  </tbody>\n",
              "</table>\n",
              "<p>5 rows × 124 columns</p>\n",
              "</div>"
            ],
            "text/plain": [
              "   ST           STATE ST_ABBR  ...  EP_UNINSUR MP_UNINSUR  E_DAYPOP\n",
              "0  37  NORTH CAROLINA      NC  ...        12.4        4.2      7533\n",
              "1  37  NORTH CAROLINA      NC  ...        16.8        5.0      2347\n",
              "2  37  NORTH CAROLINA      NC  ...        21.4        4.6      8973\n",
              "3  37  NORTH CAROLINA      NC  ...        18.3        4.4      2574\n",
              "4  37  NORTH CAROLINA      NC  ...        12.7        4.8      2333\n",
              "\n",
              "[5 rows x 124 columns]"
            ]
          },
          "metadata": {},
          "execution_count": 14
        }
      ]
    },
    {
      "cell_type": "code",
      "metadata": {
        "colab": {
          "base_uri": "https://localhost:8080/"
        },
        "id": "m1I4KA8AWJHO",
        "outputId": "f6d4a1f1-84ba-4434-cf26-e9d69730995f"
      },
      "source": [
        " # Get Codebook for CDC SVI\n",
        " !wget https://svi.cdc.gov/Documents/Data/2018_SVI_Data/SVI2018Documentation.pdf"
      ],
      "execution_count": 20,
      "outputs": [
        {
          "output_type": "stream",
          "name": "stdout",
          "text": [
            "--2021-11-01 16:33:09--  https://svi.cdc.gov/Documents/Data/2018_SVI_Data/SVI2018Documentation.pdf\n",
            "Resolving svi.cdc.gov (svi.cdc.gov)... 23.222.65.138, 2a02:26f0:b200:195::2461, 2a02:26f0:b200:1b8::2461\n",
            "Connecting to svi.cdc.gov (svi.cdc.gov)|23.222.65.138|:443... connected.\n",
            "HTTP request sent, awaiting response... 200 OK\n",
            "Length: 1058489 (1.0M) [application/pdf]\n",
            "Saving to: ‘SVI2018Documentation.pdf’\n",
            "\n",
            "SVI2018Documentatio 100%[===================>]   1.01M   585KB/s    in 1.8s    \n",
            "\n",
            "2021-11-01 16:33:11 (585 KB/s) - ‘SVI2018Documentation.pdf’ saved [1058489/1058489]\n",
            "\n"
          ]
        }
      ]
    },
    {
      "cell_type": "markdown",
      "metadata": {
        "id": "GbT7fyVuWR68"
      },
      "source": [
        "The overall tract summary ranking variable is RPL_THEMES."
      ]
    },
    {
      "cell_type": "markdown",
      "metadata": {
        "id": "tckJOdRRyN44"
      },
      "source": [
        "## Step 2: Clean Data\n",
        "Data cleaning is an important step in the data science process. This step is often the hardest and most time consuming. "
      ]
    },
    {
      "cell_type": "code",
      "metadata": {
        "id": "kPsOyX67VMYs"
      },
      "source": [
        "import numpy as np\n",
        "censushtc_df.loc[censushtc_df['LowResponseScore']== 99999, 'LowResponseScore'] = np.nan"
      ],
      "execution_count": 18,
      "outputs": []
    },
    {
      "cell_type": "code",
      "metadata": {
        "id": "y-TVG01AWfgZ"
      },
      "source": [
        "cdcsvi_df.loc[cdcsvi_df['RPL_THEMES']== -999, 'RPL_THEMES'] = np.nan"
      ],
      "execution_count": 22,
      "outputs": []
    },
    {
      "cell_type": "markdown",
      "metadata": {
        "id": "IFE6zHwsWxWa"
      },
      "source": [
        "## Merge Data"
      ]
    },
    {
      "cell_type": "code",
      "metadata": {
        "colab": {
          "base_uri": "https://localhost:8080/",
          "height": 204
        },
        "id": "BtMJZWzAWwo_",
        "outputId": "137872d4-d93b-4463-f720-1e114c4497d4"
      },
      "source": [
        "merge_df = pd.merge(left = cdcsvi_df[['FIPS','RPL_THEMES']],\n",
        "                    right = censushtc_df[['GEOIDtxt','LowResponseScore']],\n",
        "                    left_on = ['FIPS'],\n",
        "                    right_on = ['GEOIDtxt'],\n",
        "                    how = 'inner')\n",
        "merge_df.head()"
      ],
      "execution_count": 25,
      "outputs": [
        {
          "output_type": "execute_result",
          "data": {
            "text/html": [
              "<div>\n",
              "<style scoped>\n",
              "    .dataframe tbody tr th:only-of-type {\n",
              "        vertical-align: middle;\n",
              "    }\n",
              "\n",
              "    .dataframe tbody tr th {\n",
              "        vertical-align: top;\n",
              "    }\n",
              "\n",
              "    .dataframe thead th {\n",
              "        text-align: right;\n",
              "    }\n",
              "</style>\n",
              "<table border=\"1\" class=\"dataframe\">\n",
              "  <thead>\n",
              "    <tr style=\"text-align: right;\">\n",
              "      <th></th>\n",
              "      <th>FIPS</th>\n",
              "      <th>RPL_THEMES</th>\n",
              "      <th>GEOIDtxt</th>\n",
              "      <th>LowResponseScore</th>\n",
              "    </tr>\n",
              "  </thead>\n",
              "  <tbody>\n",
              "    <tr>\n",
              "      <th>0</th>\n",
              "      <td>37001020100</td>\n",
              "      <td>0.7038</td>\n",
              "      <td>37001020100</td>\n",
              "      <td>22.4</td>\n",
              "    </tr>\n",
              "    <tr>\n",
              "      <th>1</th>\n",
              "      <td>37001020200</td>\n",
              "      <td>0.9324</td>\n",
              "      <td>37001020200</td>\n",
              "      <td>27.7</td>\n",
              "    </tr>\n",
              "    <tr>\n",
              "      <th>2</th>\n",
              "      <td>37001020300</td>\n",
              "      <td>0.9773</td>\n",
              "      <td>37001020300</td>\n",
              "      <td>26.2</td>\n",
              "    </tr>\n",
              "    <tr>\n",
              "      <th>3</th>\n",
              "      <td>37001020400</td>\n",
              "      <td>0.9607</td>\n",
              "      <td>37001020400</td>\n",
              "      <td>28.0</td>\n",
              "    </tr>\n",
              "    <tr>\n",
              "      <th>4</th>\n",
              "      <td>37001020501</td>\n",
              "      <td>0.6127</td>\n",
              "      <td>37001020501</td>\n",
              "      <td>22.2</td>\n",
              "    </tr>\n",
              "  </tbody>\n",
              "</table>\n",
              "</div>"
            ],
            "text/plain": [
              "          FIPS  RPL_THEMES     GEOIDtxt  LowResponseScore\n",
              "0  37001020100      0.7038  37001020100              22.4\n",
              "1  37001020200      0.9324  37001020200              27.7\n",
              "2  37001020300      0.9773  37001020300              26.2\n",
              "3  37001020400      0.9607  37001020400              28.0\n",
              "4  37001020501      0.6127  37001020501              22.2"
            ]
          },
          "metadata": {},
          "execution_count": 25
        }
      ]
    },
    {
      "cell_type": "markdown",
      "metadata": {
        "id": "i1EAKmFmyk5J"
      },
      "source": [
        "## Step 3: Describe the data\n",
        "Descriptive methods summarize the data. Descriptive statistics summarize data with numbers, tables, and graphs. The following block of code creates and formats a table using the `describe` function. The table provides eight descriptive statistics. These include the count, the mean, the standard deviation (std), the minimum (min), the lower quartile (25%), the median (50%), the upper quartile (75%), and the maximum (max)."
      ]
    },
    {
      "cell_type": "code",
      "metadata": {
        "id": "i7TgMKgmygQc",
        "colab": {
          "base_uri": "https://localhost:8080/",
          "height": 114
        },
        "outputId": "a05bea90-b82d-48b2-b8db-0012999c2c20"
      },
      "source": [
        "table1 = merge_df[['LowResponseScore']].describe().T\n",
        "varformat = \"{:,.0f}\" # The variable format adds a comma and rounds up\n",
        "table_title = \"Table 1. Descriptive statistics for Low Response Score by census tract, 2020.\"\n",
        "table1 = table1.style.set_caption(table_title).format(varformat).set_properties(**{'text-align': 'right'})\n",
        "table1"
      ],
      "execution_count": 30,
      "outputs": [
        {
          "output_type": "execute_result",
          "data": {
            "text/html": [
              "<style  type=\"text/css\" >\n",
              "#T_5cf9ff1c_3b32_11ec_b0e9_0242ac1c0002row0_col0,#T_5cf9ff1c_3b32_11ec_b0e9_0242ac1c0002row0_col1,#T_5cf9ff1c_3b32_11ec_b0e9_0242ac1c0002row0_col2,#T_5cf9ff1c_3b32_11ec_b0e9_0242ac1c0002row0_col3,#T_5cf9ff1c_3b32_11ec_b0e9_0242ac1c0002row0_col4,#T_5cf9ff1c_3b32_11ec_b0e9_0242ac1c0002row0_col5,#T_5cf9ff1c_3b32_11ec_b0e9_0242ac1c0002row0_col6,#T_5cf9ff1c_3b32_11ec_b0e9_0242ac1c0002row0_col7{\n",
              "            text-align:  right;\n",
              "        }</style><table id=\"T_5cf9ff1c_3b32_11ec_b0e9_0242ac1c0002\" class=\"dataframe\"><caption>Table 1. Descriptive statistics for Low Response Score by census tract, 2020.</caption><thead>    <tr>        <th class=\"blank level0\" ></th>        <th class=\"col_heading level0 col0\" >count</th>        <th class=\"col_heading level0 col1\" >mean</th>        <th class=\"col_heading level0 col2\" >std</th>        <th class=\"col_heading level0 col3\" >min</th>        <th class=\"col_heading level0 col4\" >25%</th>        <th class=\"col_heading level0 col5\" >50%</th>        <th class=\"col_heading level0 col6\" >75%</th>        <th class=\"col_heading level0 col7\" >max</th>    </tr></thead><tbody>\n",
              "                <tr>\n",
              "                        <th id=\"T_5cf9ff1c_3b32_11ec_b0e9_0242ac1c0002level0_row0\" class=\"row_heading level0 row0\" >LowResponseScore</th>\n",
              "                        <td id=\"T_5cf9ff1c_3b32_11ec_b0e9_0242ac1c0002row0_col0\" class=\"data row0 col0\" >2,156</td>\n",
              "                        <td id=\"T_5cf9ff1c_3b32_11ec_b0e9_0242ac1c0002row0_col1\" class=\"data row0 col1\" >21</td>\n",
              "                        <td id=\"T_5cf9ff1c_3b32_11ec_b0e9_0242ac1c0002row0_col2\" class=\"data row0 col2\" >5</td>\n",
              "                        <td id=\"T_5cf9ff1c_3b32_11ec_b0e9_0242ac1c0002row0_col3\" class=\"data row0 col3\" >6</td>\n",
              "                        <td id=\"T_5cf9ff1c_3b32_11ec_b0e9_0242ac1c0002row0_col4\" class=\"data row0 col4\" >18</td>\n",
              "                        <td id=\"T_5cf9ff1c_3b32_11ec_b0e9_0242ac1c0002row0_col5\" class=\"data row0 col5\" >21</td>\n",
              "                        <td id=\"T_5cf9ff1c_3b32_11ec_b0e9_0242ac1c0002row0_col6\" class=\"data row0 col6\" >24</td>\n",
              "                        <td id=\"T_5cf9ff1c_3b32_11ec_b0e9_0242ac1c0002row0_col7\" class=\"data row0 col7\" >43</td>\n",
              "            </tr>\n",
              "    </tbody></table>"
            ],
            "text/plain": [
              "<pandas.io.formats.style.Styler at 0x7f79b94b3550>"
            ]
          },
          "metadata": {},
          "execution_count": 30
        }
      ]
    },
    {
      "cell_type": "code",
      "metadata": {
        "colab": {
          "base_uri": "https://localhost:8080/",
          "height": 114
        },
        "id": "Tayn-s0OVuJr",
        "outputId": "28bec25f-62ae-4861-c54f-d96938d9126e"
      },
      "source": [
        "table2 = merge_df[['RPL_THEMES']].describe().T\n",
        "varformat = \"{:,.3f}\" # The variable format adds a comma and rounds up\n",
        "table_title = \"Table 2. Descriptive statistics for CDC SVI overall tract summary ranking variable by census tract, 2020.\"\n",
        "table2 = table2.style.set_caption(table_title).format(varformat).set_properties(**{'text-align': 'right'})\n",
        "table2"
      ],
      "execution_count": 28,
      "outputs": [
        {
          "output_type": "execute_result",
          "data": {
            "text/html": [
              "<style  type=\"text/css\" >\n",
              "#T_18fc9522_3b32_11ec_b0e9_0242ac1c0002row0_col0,#T_18fc9522_3b32_11ec_b0e9_0242ac1c0002row0_col1,#T_18fc9522_3b32_11ec_b0e9_0242ac1c0002row0_col2,#T_18fc9522_3b32_11ec_b0e9_0242ac1c0002row0_col3,#T_18fc9522_3b32_11ec_b0e9_0242ac1c0002row0_col4,#T_18fc9522_3b32_11ec_b0e9_0242ac1c0002row0_col5,#T_18fc9522_3b32_11ec_b0e9_0242ac1c0002row0_col6,#T_18fc9522_3b32_11ec_b0e9_0242ac1c0002row0_col7{\n",
              "            text-align:  right;\n",
              "        }</style><table id=\"T_18fc9522_3b32_11ec_b0e9_0242ac1c0002\" class=\"dataframe\"><caption>Table 2. Descriptive statistics for CDC SVI overall tract summary ranking variable by census tract, 2020.</caption><thead>    <tr>        <th class=\"blank level0\" ></th>        <th class=\"col_heading level0 col0\" >count</th>        <th class=\"col_heading level0 col1\" >mean</th>        <th class=\"col_heading level0 col2\" >std</th>        <th class=\"col_heading level0 col3\" >min</th>        <th class=\"col_heading level0 col4\" >25%</th>        <th class=\"col_heading level0 col5\" >50%</th>        <th class=\"col_heading level0 col6\" >75%</th>        <th class=\"col_heading level0 col7\" >max</th>    </tr></thead><tbody>\n",
              "                <tr>\n",
              "                        <th id=\"T_18fc9522_3b32_11ec_b0e9_0242ac1c0002level0_row0\" class=\"row_heading level0 row0\" >RPL_THEMES</th>\n",
              "                        <td id=\"T_18fc9522_3b32_11ec_b0e9_0242ac1c0002row0_col0\" class=\"data row0 col0\" >2,162.000</td>\n",
              "                        <td id=\"T_18fc9522_3b32_11ec_b0e9_0242ac1c0002row0_col1\" class=\"data row0 col1\" >0.500</td>\n",
              "                        <td id=\"T_18fc9522_3b32_11ec_b0e9_0242ac1c0002row0_col2\" class=\"data row0 col2\" >0.289</td>\n",
              "                        <td id=\"T_18fc9522_3b32_11ec_b0e9_0242ac1c0002row0_col3\" class=\"data row0 col3\" >0.000</td>\n",
              "                        <td id=\"T_18fc9522_3b32_11ec_b0e9_0242ac1c0002row0_col4\" class=\"data row0 col4\" >0.250</td>\n",
              "                        <td id=\"T_18fc9522_3b32_11ec_b0e9_0242ac1c0002row0_col5\" class=\"data row0 col5\" >0.500</td>\n",
              "                        <td id=\"T_18fc9522_3b32_11ec_b0e9_0242ac1c0002row0_col6\" class=\"data row0 col6\" >0.750</td>\n",
              "                        <td id=\"T_18fc9522_3b32_11ec_b0e9_0242ac1c0002row0_col7\" class=\"data row0 col7\" >1.000</td>\n",
              "            </tr>\n",
              "    </tbody></table>"
            ],
            "text/plain": [
              "<pandas.io.formats.style.Styler at 0x7f79bbb6c450>"
            ]
          },
          "metadata": {},
          "execution_count": 28
        }
      ]
    },
    {
      "cell_type": "code",
      "metadata": {
        "colab": {
          "base_uri": "https://localhost:8080/",
          "height": 295
        },
        "id": "951brUkrXZqP",
        "outputId": "d4fdb9eb-03e0-46f9-b282-632192d43f86"
      },
      "source": [
        "import matplotlib.pyplot as plt\n",
        "# Scatter Plot\n",
        "plt.scatter(merge_df['LowResponseScore'], merge_df['RPL_THEMES'])\n",
        "plt.title('Low Response Score vs CDC SVI, for North Carolina')\n",
        "plt.xlabel('2019 Low Response Score')\n",
        "plt.ylabel('2018 CDC SVI ranking')\n",
        "plt.show()"
      ],
      "execution_count": 37,
      "outputs": [
        {
          "output_type": "display_data",
          "data": {
            "image/png": "[encoded data removed]",
            "text/plain": [
              "<Figure size 432x288 with 1 Axes>"
            ]
          },
          "metadata": {
            "needs_background": "light"
          }
        }
      ]
    },
    {
      "cell_type": "code",
      "metadata": {
        "colab": {
          "base_uri": "https://localhost:8080/",
          "height": 111
        },
        "id": "fyA3Hk_7X5MZ",
        "outputId": "b2e86bc4-53b8-4923-bac9-d55559ac432f"
      },
      "source": [
        "# Correlation\n",
        "merge_df[['LowResponseScore','RPL_THEMES']].corr()"
      ],
      "execution_count": 33,
      "outputs": [
        {
          "output_type": "execute_result",
          "data": {
            "text/html": [
              "<div>\n",
              "<style scoped>\n",
              "    .dataframe tbody tr th:only-of-type {\n",
              "        vertical-align: middle;\n",
              "    }\n",
              "\n",
              "    .dataframe tbody tr th {\n",
              "        vertical-align: top;\n",
              "    }\n",
              "\n",
              "    .dataframe thead th {\n",
              "        text-align: right;\n",
              "    }\n",
              "</style>\n",
              "<table border=\"1\" class=\"dataframe\">\n",
              "  <thead>\n",
              "    <tr style=\"text-align: right;\">\n",
              "      <th></th>\n",
              "      <th>LowResponseScore</th>\n",
              "      <th>RPL_THEMES</th>\n",
              "    </tr>\n",
              "  </thead>\n",
              "  <tbody>\n",
              "    <tr>\n",
              "      <th>LowResponseScore</th>\n",
              "      <td>1.000000</td>\n",
              "      <td>0.709692</td>\n",
              "    </tr>\n",
              "    <tr>\n",
              "      <th>RPL_THEMES</th>\n",
              "      <td>0.709692</td>\n",
              "      <td>1.000000</td>\n",
              "    </tr>\n",
              "  </tbody>\n",
              "</table>\n",
              "</div>"
            ],
            "text/plain": [
              "                  LowResponseScore  RPL_THEMES\n",
              "LowResponseScore          1.000000    0.709692\n",
              "RPL_THEMES                0.709692    1.000000"
            ]
          },
          "metadata": {},
          "execution_count": 33
        }
      ]
    }
  ]
}